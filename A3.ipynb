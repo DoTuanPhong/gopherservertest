{
 "cells": [
  {
   "cell_type": "code",
   "execution_count": 28,
   "metadata": {},
   "outputs": [],
   "source": [
    "import paho.mqtt.client as mqtt\n",
    "import time\n",
    "import threading"
   ]
  },
  {
   "cell_type": "code",
   "execution_count": 29,
   "metadata": {},
   "outputs": [
    {
     "ename": "ValueError",
     "evalue": "Unsupported callback API version: version 2.0 added a callback_api_version, see docs/migrations.rst for details",
     "output_type": "error",
     "traceback": [
      "\u001b[1;31m---------------------------------------------------------------------------\u001b[0m",
      "\u001b[1;31mValueError\u001b[0m                                Traceback (most recent call last)",
      "Cell \u001b[1;32mIn[29], line 45\u001b[0m\n\u001b[0;32m     43\u001b[0m publishers \u001b[38;5;241m=\u001b[39m []\n\u001b[0;32m     44\u001b[0m \u001b[38;5;28;01mfor\u001b[39;00m i \u001b[38;5;129;01min\u001b[39;00m \u001b[38;5;28mrange\u001b[39m(\u001b[38;5;241m1\u001b[39m, \u001b[38;5;241m6\u001b[39m):\n\u001b[1;32m---> 45\u001b[0m     publisher \u001b[38;5;241m=\u001b[39m Publisher(i)\n\u001b[0;32m     46\u001b[0m     publishers\u001b[38;5;241m.\u001b[39mappend(publisher)\n\u001b[0;32m     47\u001b[0m     threading\u001b[38;5;241m.\u001b[39mThread(target\u001b[38;5;241m=\u001b[39mpublisher\u001b[38;5;241m.\u001b[39mrun)\u001b[38;5;241m.\u001b[39mstart()\n",
      "Cell \u001b[1;32mIn[29], line 7\u001b[0m, in \u001b[0;36mPublisher.__init__\u001b[1;34m(self, instance_id)\u001b[0m\n\u001b[0;32m      5\u001b[0m \u001b[38;5;28mself\u001b[39m\u001b[38;5;241m.\u001b[39mqos \u001b[38;5;241m=\u001b[39m \u001b[38;5;241m0\u001b[39m\n\u001b[0;32m      6\u001b[0m \u001b[38;5;28mself\u001b[39m\u001b[38;5;241m.\u001b[39mdelay \u001b[38;5;241m=\u001b[39m \u001b[38;5;241m0\u001b[39m\n\u001b[1;32m----> 7\u001b[0m \u001b[38;5;28mself\u001b[39m\u001b[38;5;241m.\u001b[39mclient \u001b[38;5;241m=\u001b[39m mqtt\u001b[38;5;241m.\u001b[39mClient(\u001b[38;5;124mf\u001b[39m\u001b[38;5;124m\"\u001b[39m\u001b[38;5;124mpub-\u001b[39m\u001b[38;5;132;01m{\u001b[39;00minstance_id\u001b[38;5;132;01m}\u001b[39;00m\u001b[38;5;124m\"\u001b[39m)\n\u001b[0;32m      8\u001b[0m \u001b[38;5;28mself\u001b[39m\u001b[38;5;241m.\u001b[39mclient\u001b[38;5;241m.\u001b[39mon_connect \u001b[38;5;241m=\u001b[39m \u001b[38;5;28mself\u001b[39m\u001b[38;5;241m.\u001b[39mon_connect\n\u001b[0;32m      9\u001b[0m \u001b[38;5;28mself\u001b[39m\u001b[38;5;241m.\u001b[39mclient\u001b[38;5;241m.\u001b[39mon_message \u001b[38;5;241m=\u001b[39m \u001b[38;5;28mself\u001b[39m\u001b[38;5;241m.\u001b[39mon_message\n",
      "File \u001b[1;32mc:\\Users\\binhd\\anaconda3\\Lib\\site-packages\\paho\\mqtt\\client.py:772\u001b[0m, in \u001b[0;36mClient.__init__\u001b[1;34m(self, callback_api_version, client_id, clean_session, userdata, protocol, transport, reconnect_on_failure, manual_ack)\u001b[0m\n\u001b[0;32m    764\u001b[0m     warnings\u001b[38;5;241m.\u001b[39mwarn(\n\u001b[0;32m    765\u001b[0m         \u001b[38;5;124m\"\u001b[39m\u001b[38;5;124mCallback API version 1 is deprecated, update to latest version\u001b[39m\u001b[38;5;124m\"\u001b[39m,\n\u001b[0;32m    766\u001b[0m         category\u001b[38;5;241m=\u001b[39m\u001b[38;5;167;01mDeprecationWarning\u001b[39;00m,\n\u001b[0;32m    767\u001b[0m         stacklevel\u001b[38;5;241m=\u001b[39m\u001b[38;5;241m2\u001b[39m,\n\u001b[0;32m    768\u001b[0m     )\n\u001b[0;32m    769\u001b[0m \u001b[38;5;28;01mif\u001b[39;00m \u001b[38;5;28misinstance\u001b[39m(\u001b[38;5;28mself\u001b[39m\u001b[38;5;241m.\u001b[39m_callback_api_version, \u001b[38;5;28mstr\u001b[39m):\n\u001b[0;32m    770\u001b[0m     \u001b[38;5;66;03m# Help user to migrate, it probably provided a client id\u001b[39;00m\n\u001b[0;32m    771\u001b[0m     \u001b[38;5;66;03m# as first arguments\u001b[39;00m\n\u001b[1;32m--> 772\u001b[0m     \u001b[38;5;28;01mraise\u001b[39;00m \u001b[38;5;167;01mValueError\u001b[39;00m(\n\u001b[0;32m    773\u001b[0m         \u001b[38;5;124m\"\u001b[39m\u001b[38;5;124mUnsupported callback API version: version 2.0 added a callback_api_version, see docs/migrations.rst for details\u001b[39m\u001b[38;5;124m\"\u001b[39m\n\u001b[0;32m    774\u001b[0m     )\n\u001b[0;32m    775\u001b[0m \u001b[38;5;28;01mif\u001b[39;00m \u001b[38;5;28mself\u001b[39m\u001b[38;5;241m.\u001b[39m_callback_api_version \u001b[38;5;129;01mnot\u001b[39;00m \u001b[38;5;129;01min\u001b[39;00m CallbackAPIVersion:\n\u001b[0;32m    776\u001b[0m     \u001b[38;5;28;01mraise\u001b[39;00m \u001b[38;5;167;01mValueError\u001b[39;00m(\u001b[38;5;124m\"\u001b[39m\u001b[38;5;124mUnsupported callback API version\u001b[39m\u001b[38;5;124m\"\u001b[39m)\n",
      "\u001b[1;31mValueError\u001b[0m: Unsupported callback API version: version 2.0 added a callback_api_version, see docs/migrations.rst for details"
     ]
    }
   ],
   "source": [
    "class Publisher:\n",
    "    def __init__(self, instance_id):\n",
    "        self.instance_id = instance_id\n",
    "        self.active = False\n",
    "        self.qos = 0\n",
    "        self.delay = 0\n",
    "        self.client = mqtt.Client(f\"pub-{instance_id}\")\n",
    "        self.client.on_connect = self.on_connect\n",
    "        self.client.on_message = self.on_message\n",
    "\n",
    "    def on_connect(self, client, userdata, flags, rc):\n",
    "        print(f\"Publisher {self.instance_id} connected with result code {rc}\")\n",
    "        self.client.subscribe(\"request/qos\")\n",
    "        self.client.subscribe(\"request/delay\")\n",
    "        self.client.subscribe(\"request/instancecount\")\n",
    "\n",
    "    def on_message(self, client, userdata, msg):\n",
    "        if msg.topic == \"request/qos\":\n",
    "            self.qos = int(msg.payload.decode())\n",
    "        elif msg.topic == \"request/delay\":\n",
    "            self.delay = int(msg.payload.decode())\n",
    "        elif msg.topic == \"request/instancecount\":\n",
    "            instance_count = int(msg.payload.decode())\n",
    "            self.active = (self.instance_id <= instance_count)\n",
    "\n",
    "    def publish_messages(self):\n",
    "        counter = 0\n",
    "        while self.active:\n",
    "            topic = f\"counter/{self.instance_id}/{self.qos}/{self.delay}\"\n",
    "            message = str(counter)\n",
    "            self.client.publish(topic, message, qos=self.qos)\n",
    "            counter += 1\n",
    "            time.sleep(self.delay / 1000.0)  # Convert delay to seconds\n",
    "        self.client.loop_stop()\n",
    "\n",
    "    def run(self):\n",
    "        self.client.connect(\"127.0.0.1\", 1883, 60)\n",
    "        self.client.loop_start()\n",
    "        self.publish_messages()"
   ]
  },
  {
   "cell_type": "code",
   "execution_count": 32,
   "metadata": {},
   "outputs": [
    {
     "ename": "ValueError",
     "evalue": "Unsupported callback API version: version 2.0 added a callback_api_version, see docs/migrations.rst for details",
     "output_type": "error",
     "traceback": [
      "\u001b[1;31m---------------------------------------------------------------------------\u001b[0m",
      "\u001b[1;31mValueError\u001b[0m                                Traceback (most recent call last)",
      "Cell \u001b[1;32mIn[32], line 4\u001b[0m\n\u001b[0;32m      2\u001b[0m publishers \u001b[38;5;241m=\u001b[39m []\n\u001b[0;32m      3\u001b[0m \u001b[38;5;28;01mfor\u001b[39;00m i \u001b[38;5;129;01min\u001b[39;00m \u001b[38;5;28mrange\u001b[39m(\u001b[38;5;241m1\u001b[39m, \u001b[38;5;241m6\u001b[39m):\n\u001b[1;32m----> 4\u001b[0m     publisher \u001b[38;5;241m=\u001b[39m Publisher(i)\n\u001b[0;32m      5\u001b[0m     publishers\u001b[38;5;241m.\u001b[39mappend(publisher)\n\u001b[0;32m      6\u001b[0m     threading\u001b[38;5;241m.\u001b[39mThread(target\u001b[38;5;241m=\u001b[39mpublisher\u001b[38;5;241m.\u001b[39mrun)\u001b[38;5;241m.\u001b[39mstart()\n",
      "Cell \u001b[1;32mIn[29], line 7\u001b[0m, in \u001b[0;36mPublisher.__init__\u001b[1;34m(self, instance_id)\u001b[0m\n\u001b[0;32m      5\u001b[0m \u001b[38;5;28mself\u001b[39m\u001b[38;5;241m.\u001b[39mqos \u001b[38;5;241m=\u001b[39m \u001b[38;5;241m0\u001b[39m\n\u001b[0;32m      6\u001b[0m \u001b[38;5;28mself\u001b[39m\u001b[38;5;241m.\u001b[39mdelay \u001b[38;5;241m=\u001b[39m \u001b[38;5;241m0\u001b[39m\n\u001b[1;32m----> 7\u001b[0m \u001b[38;5;28mself\u001b[39m\u001b[38;5;241m.\u001b[39mclient \u001b[38;5;241m=\u001b[39m mqtt\u001b[38;5;241m.\u001b[39mClient(\u001b[38;5;124mf\u001b[39m\u001b[38;5;124m\"\u001b[39m\u001b[38;5;124mpub-\u001b[39m\u001b[38;5;132;01m{\u001b[39;00minstance_id\u001b[38;5;132;01m}\u001b[39;00m\u001b[38;5;124m\"\u001b[39m)\n\u001b[0;32m      8\u001b[0m \u001b[38;5;28mself\u001b[39m\u001b[38;5;241m.\u001b[39mclient\u001b[38;5;241m.\u001b[39mon_connect \u001b[38;5;241m=\u001b[39m \u001b[38;5;28mself\u001b[39m\u001b[38;5;241m.\u001b[39mon_connect\n\u001b[0;32m      9\u001b[0m \u001b[38;5;28mself\u001b[39m\u001b[38;5;241m.\u001b[39mclient\u001b[38;5;241m.\u001b[39mon_message \u001b[38;5;241m=\u001b[39m \u001b[38;5;28mself\u001b[39m\u001b[38;5;241m.\u001b[39mon_message\n",
      "File \u001b[1;32mc:\\Users\\binhd\\anaconda3\\Lib\\site-packages\\paho\\mqtt\\client.py:772\u001b[0m, in \u001b[0;36mClient.__init__\u001b[1;34m(self, callback_api_version, client_id, clean_session, userdata, protocol, transport, reconnect_on_failure, manual_ack)\u001b[0m\n\u001b[0;32m    764\u001b[0m     warnings\u001b[38;5;241m.\u001b[39mwarn(\n\u001b[0;32m    765\u001b[0m         \u001b[38;5;124m\"\u001b[39m\u001b[38;5;124mCallback API version 1 is deprecated, update to latest version\u001b[39m\u001b[38;5;124m\"\u001b[39m,\n\u001b[0;32m    766\u001b[0m         category\u001b[38;5;241m=\u001b[39m\u001b[38;5;167;01mDeprecationWarning\u001b[39;00m,\n\u001b[0;32m    767\u001b[0m         stacklevel\u001b[38;5;241m=\u001b[39m\u001b[38;5;241m2\u001b[39m,\n\u001b[0;32m    768\u001b[0m     )\n\u001b[0;32m    769\u001b[0m \u001b[38;5;28;01mif\u001b[39;00m \u001b[38;5;28misinstance\u001b[39m(\u001b[38;5;28mself\u001b[39m\u001b[38;5;241m.\u001b[39m_callback_api_version, \u001b[38;5;28mstr\u001b[39m):\n\u001b[0;32m    770\u001b[0m     \u001b[38;5;66;03m# Help user to migrate, it probably provided a client id\u001b[39;00m\n\u001b[0;32m    771\u001b[0m     \u001b[38;5;66;03m# as first arguments\u001b[39;00m\n\u001b[1;32m--> 772\u001b[0m     \u001b[38;5;28;01mraise\u001b[39;00m \u001b[38;5;167;01mValueError\u001b[39;00m(\n\u001b[0;32m    773\u001b[0m         \u001b[38;5;124m\"\u001b[39m\u001b[38;5;124mUnsupported callback API version: version 2.0 added a callback_api_version, see docs/migrations.rst for details\u001b[39m\u001b[38;5;124m\"\u001b[39m\n\u001b[0;32m    774\u001b[0m     )\n\u001b[0;32m    775\u001b[0m \u001b[38;5;28;01mif\u001b[39;00m \u001b[38;5;28mself\u001b[39m\u001b[38;5;241m.\u001b[39m_callback_api_version \u001b[38;5;129;01mnot\u001b[39;00m \u001b[38;5;129;01min\u001b[39;00m CallbackAPIVersion:\n\u001b[0;32m    776\u001b[0m     \u001b[38;5;28;01mraise\u001b[39;00m \u001b[38;5;167;01mValueError\u001b[39;00m(\u001b[38;5;124m\"\u001b[39m\u001b[38;5;124mUnsupported callback API version\u001b[39m\u001b[38;5;124m\"\u001b[39m)\n",
      "\u001b[1;31mValueError\u001b[0m: Unsupported callback API version: version 2.0 added a callback_api_version, see docs/migrations.rst for details"
     ]
    }
   ],
   "source": [
    "# Creating and running 5 instances of Publisher\n",
    "publishers = []\n",
    "for i in range(1, 6):\n",
    "    publisher = Publisher(i)\n",
    "    publishers.append(publisher)\n",
    "    threading.Thread(target=publisher.run).start()\n",
    "client = mqtt_client.Client(mqtt_client.CallbackAPIVersion.VERSION1, client_id)"
   ]
  }
 ],
 "metadata": {
  "kernelspec": {
   "display_name": "base",
   "language": "python",
   "name": "python3"
  },
  "language_info": {
   "codemirror_mode": {
    "name": "ipython",
    "version": 3
   },
   "file_extension": ".py",
   "mimetype": "text/x-python",
   "name": "python",
   "nbconvert_exporter": "python",
   "pygments_lexer": "ipython3",
   "version": "3.11.3"
  }
 },
 "nbformat": 4,
 "nbformat_minor": 2
}
